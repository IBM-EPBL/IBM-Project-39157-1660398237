{
 "cells": [
  {
   "cell_type": "code",
   "execution_count": 1,
   "metadata": {
    "scrolled": false
   },
   "outputs": [],
   "source": [
    "import tensorflow as tf\n"
   ]
  },
  {
   "cell_type": "code",
   "execution_count": 2,
   "metadata": {},
   "outputs": [],
   "source": [
    "\n",
    "from keras.preprocessing.image import ImageDataGenerator"
   ]
  },
  {
   "cell_type": "code",
   "execution_count": 52,
   "metadata": {},
   "outputs": [],
   "source": [
    "#Building the model"
   ]
  },
  {
   "cell_type": "code",
   "execution_count": 7,
   "metadata": {},
   "outputs": [],
   "source": [
    "cnn = tf.keras.models.Sequential()"
   ]
  },
  {
   "cell_type": "code",
   "execution_count": 8,
   "metadata": {},
   "outputs": [],
   "source": [
    "#Adding convolution layer"
   ]
  },
  {
   "cell_type": "code",
   "execution_count": 9,
   "metadata": {},
   "outputs": [],
   "source": [
    "cnn.add(tf.keras.layers.Conv2D(filters=64,kernel_size=3,activation =\"relu\",input_shape =[64,64,1]))\n",
    "\n",
    "cnn.add(tf.keras.layers.MaxPool2D(pool_size = 2,strides=2))"
   ]
  },
  {
   "cell_type": "code",
   "execution_count": 10,
   "metadata": {},
   "outputs": [],
   "source": [
    "cnn.add(tf.keras.layers.Conv2D(filters=64,kernel_size=3,activation =\"relu\"))\n",
    "\n",
    "cnn.add(tf.keras.layers.MaxPool2D(pool_size = 2,strides=2))"
   ]
  },
  {
   "cell_type": "code",
   "execution_count": 11,
   "metadata": {},
   "outputs": [],
   "source": [
    "cnn.add(tf.keras.layers.Conv2D(filters=64,kernel_size=3,activation =\"relu\"))\n",
    "\n",
    "cnn.add(tf.keras.layers.MaxPool2D(pool_size = 2,strides=2))\n",
    "\n",
    "cnn.add(tf.keras.layers.Conv2D(filters=64,kernel_size=3,activation =\"relu\"))\n",
    "\n",
    "cnn.add(tf.keras.layers.MaxPool2D(pool_size = 2,strides=2))"
   ]
  },
  {
   "cell_type": "code",
   "execution_count": null,
   "metadata": {},
   "outputs": [],
   "source": []
  },
  {
   "cell_type": "code",
   "execution_count": 12,
   "metadata": {},
   "outputs": [],
   "source": [
    "cnn.add(tf.keras.layers.Dropout(0.5))"
   ]
  },
  {
   "cell_type": "code",
   "execution_count": 13,
   "metadata": {},
   "outputs": [],
   "source": [
    "# Flattening the layers "
   ]
  },
  {
   "cell_type": "code",
   "execution_count": 14,
   "metadata": {},
   "outputs": [],
   "source": [
    "cnn.add(tf.keras.layers.Flatten())"
   ]
  },
  {
   "cell_type": "code",
   "execution_count": 15,
   "metadata": {},
   "outputs": [],
   "source": [
    "# Adding dense layers(Hidden Layers)"
   ]
  },
  {
   "cell_type": "code",
   "execution_count": 16,
   "metadata": {},
   "outputs": [],
   "source": [
    "cnn.add(tf.keras.layers.Dense(units=512 ,activation =\"relu\"))\n",
    "\n",
    "cnn.add(tf.keras.layers.Dense(units=512 ,activation =\"relu\"))\n",
    "\n"
   ]
  },
  {
   "cell_type": "code",
   "execution_count": 17,
   "metadata": {},
   "outputs": [],
   "source": [
    "cnn.add(tf.keras.layers.Dense(units=8,activation=\"softmax\"))"
   ]
  },
  {
   "cell_type": "code",
   "execution_count": 18,
   "metadata": {},
   "outputs": [],
   "source": [
    "#compilation of the neural network model"
   ]
  },
  {
   "cell_type": "code",
   "execution_count": 19,
   "metadata": {},
   "outputs": [],
   "source": [
    "cnn.compile(optimizer=\"rmsprop\",loss=\"categorical_crossentropy\" ,metrics =[\"accuracy\"])"
   ]
  },
  {
   "cell_type": "code",
   "execution_count": 20,
   "metadata": {},
   "outputs": [],
   "source": [
    "#Fitting the neural network model and training it"
   ]
  },
  {
   "cell_type": "code",
   "execution_count": 21,
   "metadata": {
    "scrolled": true
   },
   "outputs": [
    {
     "name": "stdout",
     "output_type": "stream",
     "text": [
      "Epoch 1/40\n",
      "443/443 [==============================] - 101s 225ms/step - loss: 0.8835 - accuracy: 0.6570 - val_loss: 0.5262 - val_accuracy: 0.8627\n",
      "Epoch 2/40\n",
      "443/443 [==============================] - 89s 200ms/step - loss: 0.1747 - accuracy: 0.9403 - val_loss: 0.4004 - val_accuracy: 0.9170\n",
      "Epoch 3/40\n",
      "443/443 [==============================] - 89s 200ms/step - loss: 0.0908 - accuracy: 0.9696 - val_loss: 0.5208 - val_accuracy: 0.9346\n",
      "Epoch 4/40\n",
      "443/443 [==============================] - 94s 211ms/step - loss: 0.0765 - accuracy: 0.9776 - val_loss: 0.4824 - val_accuracy: 0.9203\n",
      "Epoch 5/40\n",
      "443/443 [==============================] - 99s 223ms/step - loss: 0.0595 - accuracy: 0.9814 - val_loss: 0.5635 - val_accuracy: 0.9278\n",
      "Epoch 6/40\n",
      "443/443 [==============================] - 94s 212ms/step - loss: 0.0502 - accuracy: 0.9856 - val_loss: 0.6374 - val_accuracy: 0.9274\n",
      "Epoch 7/40\n",
      "443/443 [==============================] - 93s 210ms/step - loss: 0.0476 - accuracy: 0.9875 - val_loss: 0.4054 - val_accuracy: 0.9336\n",
      "Epoch 8/40\n",
      "443/443 [==============================] - 99s 224ms/step - loss: 0.0437 - accuracy: 0.9888 - val_loss: 0.3850 - val_accuracy: 0.9509\n",
      "Epoch 9/40\n",
      "443/443 [==============================] - 101s 229ms/step - loss: 0.0476 - accuracy: 0.9879 - val_loss: 0.3308 - val_accuracy: 0.9499\n",
      "Epoch 10/40\n",
      "443/443 [==============================] - 94s 211ms/step - loss: 0.0377 - accuracy: 0.9897 - val_loss: 0.4892 - val_accuracy: 0.9496\n",
      "Epoch 11/40\n",
      "443/443 [==============================] - 104s 235ms/step - loss: 0.0438 - accuracy: 0.9900 - val_loss: 0.7324 - val_accuracy: 0.9437\n",
      "Epoch 12/40\n",
      "443/443 [==============================] - 96s 215ms/step - loss: 0.0333 - accuracy: 0.9916 - val_loss: 0.8362 - val_accuracy: 0.9180\n",
      "Epoch 13/40\n",
      "443/443 [==============================] - 95s 215ms/step - loss: 0.0320 - accuracy: 0.9922 - val_loss: 1.0805 - val_accuracy: 0.9369\n",
      "Epoch 14/40\n",
      "443/443 [==============================] - 102s 230ms/step - loss: 0.0342 - accuracy: 0.9928 - val_loss: 0.6991 - val_accuracy: 0.9570\n",
      "Epoch 15/40\n",
      "443/443 [==============================] - 113s 255ms/step - loss: 0.0348 - accuracy: 0.9930 - val_loss: 0.5142 - val_accuracy: 0.9658\n",
      "Epoch 16/40\n",
      "443/443 [==============================] - 99s 224ms/step - loss: 0.0307 - accuracy: 0.9939 - val_loss: 0.6132 - val_accuracy: 0.9473\n",
      "Epoch 17/40\n",
      "443/443 [==============================] - 106s 239ms/step - loss: 0.0285 - accuracy: 0.9932 - val_loss: 0.6317 - val_accuracy: 0.9525\n",
      "Epoch 18/40\n",
      "443/443 [==============================] - 105s 237ms/step - loss: 0.0335 - accuracy: 0.9939 - val_loss: 1.1463 - val_accuracy: 0.9265\n",
      "Epoch 19/40\n",
      "443/443 [==============================] - 102s 229ms/step - loss: 0.0385 - accuracy: 0.9932 - val_loss: 0.8442 - val_accuracy: 0.9515\n",
      "Epoch 20/40\n",
      "443/443 [==============================] - 123s 278ms/step - loss: 0.0345 - accuracy: 0.9936 - val_loss: 0.8223 - val_accuracy: 0.9541\n",
      "Epoch 21/40\n",
      "443/443 [==============================] - 107s 241ms/step - loss: 0.0305 - accuracy: 0.9947 - val_loss: 1.0031 - val_accuracy: 0.9398\n",
      "Epoch 22/40\n",
      "443/443 [==============================] - 99s 224ms/step - loss: 0.0256 - accuracy: 0.9952 - val_loss: 0.5868 - val_accuracy: 0.9466\n",
      "Epoch 23/40\n",
      "443/443 [==============================] - 116s 261ms/step - loss: 0.0328 - accuracy: 0.9940 - val_loss: 0.7575 - val_accuracy: 0.9610\n",
      "Epoch 24/40\n",
      "443/443 [==============================] - 116s 260ms/step - loss: 0.0295 - accuracy: 0.9955 - val_loss: 0.9906 - val_accuracy: 0.9401\n",
      "Epoch 25/40\n",
      "443/443 [==============================] - 97s 219ms/step - loss: 0.0304 - accuracy: 0.9954 - val_loss: 0.7816 - val_accuracy: 0.9603\n",
      "Epoch 26/40\n",
      "443/443 [==============================] - 87s 195ms/step - loss: 0.0293 - accuracy: 0.9953 - val_loss: 0.4841 - val_accuracy: 0.9570\n",
      "Epoch 27/40\n",
      "443/443 [==============================] - 97s 219ms/step - loss: 0.0342 - accuracy: 0.9956 - val_loss: 0.6209 - val_accuracy: 0.9551\n",
      "Epoch 28/40\n",
      "443/443 [==============================] - 101s 228ms/step - loss: 0.0383 - accuracy: 0.9931 - val_loss: 0.6296 - val_accuracy: 0.9515\n",
      "Epoch 29/40\n",
      "443/443 [==============================] - 104s 235ms/step - loss: 0.0329 - accuracy: 0.9952 - val_loss: 0.4781 - val_accuracy: 0.9697\n",
      "Epoch 30/40\n",
      "443/443 [==============================] - 107s 241ms/step - loss: 0.0306 - accuracy: 0.9963 - val_loss: 0.7248 - val_accuracy: 0.9574\n",
      "Epoch 31/40\n",
      "443/443 [==============================] - 108s 245ms/step - loss: 0.0293 - accuracy: 0.9946 - val_loss: 1.1144 - val_accuracy: 0.9447\n",
      "Epoch 32/40\n",
      "443/443 [==============================] - 102s 231ms/step - loss: 0.0316 - accuracy: 0.9958 - val_loss: 0.7613 - val_accuracy: 0.9567\n",
      "Epoch 33/40\n",
      "443/443 [==============================] - 110s 249ms/step - loss: 0.0391 - accuracy: 0.9941 - val_loss: 1.1139 - val_accuracy: 0.9450\n",
      "Epoch 34/40\n",
      "443/443 [==============================] - 113s 255ms/step - loss: 0.0239 - accuracy: 0.9961 - val_loss: 0.6626 - val_accuracy: 0.9639\n",
      "Epoch 35/40\n",
      "443/443 [==============================] - 115s 259ms/step - loss: 0.0254 - accuracy: 0.9952 - val_loss: 1.2336 - val_accuracy: 0.9424\n",
      "Epoch 36/40\n",
      "443/443 [==============================] - 111s 251ms/step - loss: 0.0242 - accuracy: 0.9963 - val_loss: 0.6781 - val_accuracy: 0.9662\n",
      "Epoch 37/40\n",
      "443/443 [==============================] - 116s 263ms/step - loss: 0.0299 - accuracy: 0.9956 - val_loss: 0.5537 - val_accuracy: 0.9675\n",
      "Epoch 38/40\n",
      "443/443 [==============================] - 112s 252ms/step - loss: 0.0353 - accuracy: 0.9956 - val_loss: 0.4937 - val_accuracy: 0.9662\n",
      "Epoch 39/40\n",
      "443/443 [==============================] - 115s 259ms/step - loss: 0.0257 - accuracy: 0.9956 - val_loss: 0.6316 - val_accuracy: 0.9691\n",
      "Epoch 40/40\n",
      "443/443 [==============================] - 114s 258ms/step - loss: 0.0351 - accuracy: 0.9956 - val_loss: 0.7734 - val_accuracy: 0.9714\n"
     ]
    },
    {
     "data": {
      "text/plain": [
       "<keras.callbacks.History at 0x1f99091a128>"
      ]
     },
     "execution_count": 21,
     "metadata": {},
     "output_type": "execute_result"
    }
   ],
   "source": [
    "cnn.fit(training_set , validation_data =test_data , epochs = 40 )"
   ]
  },
  {
   "cell_type": "code",
   "execution_count": 23,
   "metadata": {
    "scrolled": true
   },
   "outputs": [
    {
     "name": "stdout",
     "output_type": "stream",
     "text": [
      "Epoch 1/30\n",
      "503/503 [==============================] - 121s 241ms/step - loss: 0.0085 - accuracy: 0.9979 - val_loss: 0.0710 - val_accuracy: 0.9790\n",
      "Epoch 2/30\n",
      "503/503 [==============================] - 114s 227ms/step - loss: 0.0172 - accuracy: 0.9960 - val_loss: 0.1525 - val_accuracy: 0.9758\n",
      "Epoch 3/30\n",
      "503/503 [==============================] - 111s 221ms/step - loss: 0.0091 - accuracy: 0.9979 - val_loss: 0.0945 - val_accuracy: 0.9769\n",
      "Epoch 4/30\n",
      "503/503 [==============================] - 120s 239ms/step - loss: 0.0140 - accuracy: 0.9966 - val_loss: 0.0497 - val_accuracy: 0.9784\n",
      "Epoch 5/30\n",
      "503/503 [==============================] - 108s 215ms/step - loss: 0.0044 - accuracy: 0.9988 - val_loss: 0.1006 - val_accuracy: 0.9712\n",
      "Epoch 6/30\n",
      "503/503 [==============================] - 104s 208ms/step - loss: 0.0099 - accuracy: 0.9969 - val_loss: 0.0478 - val_accuracy: 0.9833\n",
      "Epoch 7/30\n",
      "503/503 [==============================] - 105s 209ms/step - loss: 0.0078 - accuracy: 0.9977 - val_loss: 0.1074 - val_accuracy: 0.9706\n",
      "Epoch 8/30\n",
      "503/503 [==============================] - 106s 210ms/step - loss: 0.0148 - accuracy: 0.9967 - val_loss: 0.0531 - val_accuracy: 0.9821\n",
      "Epoch 9/30\n",
      "503/503 [==============================] - 107s 213ms/step - loss: 0.0088 - accuracy: 0.9976 - val_loss: 0.0447 - val_accuracy: 0.9899\n",
      "Epoch 10/30\n",
      "503/503 [==============================] - 105s 210ms/step - loss: 0.0071 - accuracy: 0.9981 - val_loss: 0.0936 - val_accuracy: 0.9752\n",
      "Epoch 11/30\n",
      "503/503 [==============================] - 112s 224ms/step - loss: 0.0101 - accuracy: 0.9971 - val_loss: 0.0532 - val_accuracy: 0.9807\n",
      "Epoch 12/30\n",
      "503/503 [==============================] - 112s 223ms/step - loss: 0.0091 - accuracy: 0.9977 - val_loss: 0.0670 - val_accuracy: 0.9798\n",
      "Epoch 13/30\n",
      "503/503 [==============================] - 109s 217ms/step - loss: 0.0102 - accuracy: 0.9974 - val_loss: 0.1716 - val_accuracy: 0.9746\n",
      "Epoch 14/30\n",
      "503/503 [==============================] - 126s 251ms/step - loss: 0.0150 - accuracy: 0.9962 - val_loss: 0.0467 - val_accuracy: 0.9905\n",
      "Epoch 15/30\n",
      "503/503 [==============================] - 139s 277ms/step - loss: 0.0055 - accuracy: 0.9987 - val_loss: 0.0676 - val_accuracy: 0.9827\n",
      "Epoch 16/30\n",
      "503/503 [==============================] - 128s 255ms/step - loss: 0.0084 - accuracy: 0.9979 - val_loss: 0.0569 - val_accuracy: 0.9870\n",
      "Epoch 17/30\n",
      "503/503 [==============================] - 127s 253ms/step - loss: 0.0101 - accuracy: 0.9973 - val_loss: 0.1255 - val_accuracy: 0.9853\n",
      "Epoch 18/30\n",
      "503/503 [==============================] - 131s 261ms/step - loss: 0.0098 - accuracy: 0.9974 - val_loss: 0.0266 - val_accuracy: 0.9948\n",
      "Epoch 19/30\n",
      "503/503 [==============================] - 124s 246ms/step - loss: 0.0105 - accuracy: 0.9971 - val_loss: 0.0556 - val_accuracy: 0.9841\n",
      "Epoch 20/30\n",
      "503/503 [==============================] - 132s 263ms/step - loss: 0.0062 - accuracy: 0.9983 - val_loss: 0.0573 - val_accuracy: 0.9810\n",
      "Epoch 21/30\n",
      "503/503 [==============================] - 124s 247ms/step - loss: 0.0096 - accuracy: 0.9981 - val_loss: 0.1414 - val_accuracy: 0.9674\n",
      "Epoch 22/30\n",
      "503/503 [==============================] - 132s 263ms/step - loss: 0.0114 - accuracy: 0.9973 - val_loss: 0.0163 - val_accuracy: 0.9951\n",
      "Epoch 23/30\n",
      "503/503 [==============================] - 140s 278ms/step - loss: 0.0108 - accuracy: 0.9974 - val_loss: 0.1910 - val_accuracy: 0.9749\n",
      "Epoch 24/30\n",
      "503/503 [==============================] - 129s 257ms/step - loss: 0.0075 - accuracy: 0.9976 - val_loss: 0.1201 - val_accuracy: 0.9709\n",
      "Epoch 25/30\n",
      "503/503 [==============================] - 125s 248ms/step - loss: 0.0069 - accuracy: 0.9983 - val_loss: 0.0636 - val_accuracy: 0.9865\n",
      "Epoch 26/30\n",
      "503/503 [==============================] - 128s 254ms/step - loss: 0.0068 - accuracy: 0.9984 - val_loss: 0.1205 - val_accuracy: 0.9792\n",
      "Epoch 27/30\n",
      "503/503 [==============================] - 126s 250ms/step - loss: 0.0112 - accuracy: 0.9972 - val_loss: 0.0810 - val_accuracy: 0.9827\n",
      "Epoch 28/30\n",
      "503/503 [==============================] - 134s 267ms/step - loss: 0.0065 - accuracy: 0.9983 - val_loss: 0.0254 - val_accuracy: 0.9865\n",
      "Epoch 29/30\n",
      "503/503 [==============================] - 145s 288ms/step - loss: 0.0077 - accuracy: 0.9986 - val_loss: 0.0516 - val_accuracy: 0.9902\n",
      "Epoch 30/30\n",
      "503/503 [==============================] - 142s 282ms/step - loss: 0.0039 - accuracy: 0.9991 - val_loss: 0.0412 - val_accuracy: 0.9914\n"
     ]
    },
    {
     "data": {
      "text/plain": [
       "<keras.callbacks.History at 0x2ba53473fd0>"
      ]
     },
     "execution_count": 23,
     "metadata": {},
     "output_type": "execute_result"
    }
   ],
   "source": [
    "cnn.fit(x = training_set , validation_data =test_data , epochs = 30 )"
   ]
  }
 ],
 "metadata": {
  "kernelspec": {
   "display_name": "Python 3",
   "language": "python",
   "name": "python3"
  },
  "language_info": {
   "codemirror_mode": {
    "name": "ipython",
    "version": 3
   },
   "file_extension": ".py",
   "mimetype": "text/x-python",
   "name": "python",
   "nbconvert_exporter": "python",
   "pygments_lexer": "ipython3",
   "version": "3.7.3"
  }
 },
 "nbformat": 4,
 "nbformat_minor": 2
}
