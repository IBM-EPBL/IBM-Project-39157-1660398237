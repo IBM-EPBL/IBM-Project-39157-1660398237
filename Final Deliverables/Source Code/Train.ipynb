{
 "cells": [
  {
   "cell_type": "code",
   "execution_count": 1,
   "metadata": {
    "scrolled": false
   },
   "outputs": [],
   "source": [
    "import tensorflow as tf\n"
   ]
  },
  {
   "cell_type": "code",
   "execution_count": 2,
   "metadata": {},
   "outputs": [],
   "source": [
    "\n",
    "from keras.preprocessing.image import ImageDataGenerator"
   ]
  },
  {
   "cell_type": "code",
   "execution_count": 3,
   "metadata": {},
   "outputs": [],
   "source": []
  },
  {
   "cell_type": "code",
   "execution_count": 4,
   "metadata": {},
   "outputs": [],
   "source": [
    "#Augmenting the input training images"
   ]
  },
  {
   "cell_type": "code",
   "execution_count": 5,
   "metadata": {},
   "outputs": [
    {
     "name": "stdout",
     "output_type": "stream",
     "text": [
      "Found 15497 images belonging to 9 classes.\n"
     ]
    }
   ],
   "source": [
    "train_datagen = ImageDataGenerator(\n",
    "        rescale=1./255,\n",
    "        shear_range=0.2,\n",
    "        zoom_range=0.2,\n",
    "        horizontal_flip=True)\n",
    "\n",
    "\n",
    "training_set = train_datagen.flow_from_directory(\n",
    "        r'Dataset/Train_set',\n",
    "        target_size=(64, 64),\n",
    "        batch_size=32,\n",
    "        class_mode='categorical',\n",
    "        color_mode = \"grayscale\")\n",
    "\n"
   ]
  },
  {
   "cell_type": "code",
   "execution_count": 6,
   "metadata": {},
   "outputs": [
    {
     "name": "stdout",
     "output_type": "stream",
     "text": [
      "Found 3094 images belonging to 9 classes.\n"
     ]
    }
   ],
   "source": [
    "test_datagen = ImageDataGenerator(\n",
    "        rescale=1./255)\n",
    "\n",
    "test_data = test_datagen.flow_from_directory(\n",
    "        r'dataset/Test_set',\n",
    "        target_size=(64, 64),\n",
    "        batch_size=32,\n",
    "        class_mode='categorical',\n",
    "        color_mode = \"grayscale\")"
   ]
  },
  {
   "cell_type": "code",
   "execution_count": 7,
   "metadata": {},
   "outputs": [],
   "source": [
    "#Building the model"
   ]
  },
  {
   "cell_type": "code",
   "execution_count": 8,
   "metadata": {},
   "outputs": [],
   "source": [
    "cnn = tf.keras.models.Sequential()"
   ]
  },
  {
   "cell_type": "code",
   "execution_count": 9,
   "metadata": {},
   "outputs": [],
   "source": [
    "#Adding convolution layer"
   ]
  },
  {
   "cell_type": "code",
   "execution_count": 10,
   "metadata": {},
   "outputs": [],
   "source": [
    "cnn.add(tf.keras.layers.Conv2D(filters=64,kernel_size=3,activation =\"relu\",input_shape =[64,64,1]))\n",
    "\n",
    "cnn.add(tf.keras.layers.MaxPool2D(pool_size = 2,strides=2))"
   ]
  },
  {
   "cell_type": "code",
   "execution_count": 11,
   "metadata": {},
   "outputs": [],
   "source": [
    "cnn.add(tf.keras.layers.Conv2D(filters=64,kernel_size=3,activation =\"relu\"))\n",
    "\n",
    "cnn.add(tf.keras.layers.MaxPool2D(pool_size = 2,strides=2))"
   ]
  },
  {
   "cell_type": "code",
   "execution_count": 12,
   "metadata": {},
   "outputs": [],
   "source": [
    "cnn.add(tf.keras.layers.Conv2D(filters=64,kernel_size=3,activation =\"relu\"))\n",
    "\n",
    "cnn.add(tf.keras.layers.MaxPool2D(pool_size = 2,strides=2))\n",
    "\n",
    "cnn.add(tf.keras.layers.Conv2D(filters=64,kernel_size=3,activation =\"relu\"))\n",
    "\n",
    "cnn.add(tf.keras.layers.MaxPool2D(pool_size = 2,strides=2))"
   ]
  },
  {
   "cell_type": "code",
   "execution_count": null,
   "metadata": {},
   "outputs": [],
   "source": []
  },
  {
   "cell_type": "code",
   "execution_count": 13,
   "metadata": {},
   "outputs": [],
   "source": [
    "cnn.add(tf.keras.layers.Dropout(0.5))"
   ]
  },
  {
   "cell_type": "code",
   "execution_count": 14,
   "metadata": {},
   "outputs": [],
   "source": [
    "# Flattening the layers "
   ]
  },
  {
   "cell_type": "code",
   "execution_count": 15,
   "metadata": {},
   "outputs": [],
   "source": [
    "cnn.add(tf.keras.layers.Flatten())"
   ]
  },
  {
   "cell_type": "code",
   "execution_count": 16,
   "metadata": {},
   "outputs": [],
   "source": [
    "# Adding dense layers(Hidden Layers)"
   ]
  },
  {
   "cell_type": "code",
   "execution_count": 17,
   "metadata": {},
   "outputs": [],
   "source": [
    "cnn.add(tf.keras.layers.Dense(units=512 ,activation =\"relu\"))\n",
    "\n",
    "cnn.add(tf.keras.layers.Dense(units=512 ,activation =\"relu\"))\n",
    "\n"
   ]
  },
  {
   "cell_type": "code",
   "execution_count": 18,
   "metadata": {},
   "outputs": [],
   "source": [
    "cnn.add(tf.keras.layers.Dense(units=9,activation=\"softmax\"))"
   ]
  },
  {
   "cell_type": "code",
   "execution_count": 19,
   "metadata": {},
   "outputs": [],
   "source": [
    "#compilation of the neural network model"
   ]
  },
  {
   "cell_type": "code",
   "execution_count": 20,
   "metadata": {},
   "outputs": [],
   "source": [
    "cnn.compile(optimizer=\"rmsprop\",loss=\"categorical_crossentropy\" ,metrics =[\"accuracy\"])"
   ]
  },
  {
   "cell_type": "code",
   "execution_count": 21,
   "metadata": {},
   "outputs": [],
   "source": [
    "#Fitting the neural network model and training it"
   ]
  },
  {
   "cell_type": "code",
   "execution_count": 22,
   "metadata": {
    "scrolled": true
   },
   "outputs": [
    {
     "name": "stdout",
     "output_type": "stream",
     "text": [
      "Epoch 1/30\n",
      "485/485 [==============================] - 101s 205ms/step - loss: 0.7718 - accuracy: 0.7126 - val_loss: 0.7861 - val_accuracy: 0.7860\n",
      "Epoch 2/30\n",
      "485/485 [==============================] - 98s 202ms/step - loss: 0.1300 - accuracy: 0.9563 - val_loss: 0.5524 - val_accuracy: 0.9124\n",
      "Epoch 3/30\n",
      "485/485 [==============================] - 105s 216ms/step - loss: 0.0847 - accuracy: 0.9742 - val_loss: 0.7845 - val_accuracy: 0.8539\n",
      "Epoch 4/30\n",
      "485/485 [==============================] - 102s 209ms/step - loss: 0.0678 - accuracy: 0.9790 - val_loss: 0.4960 - val_accuracy: 0.9347\n",
      "Epoch 5/30\n",
      "485/485 [==============================] - 105s 216ms/step - loss: 0.0578 - accuracy: 0.9841 - val_loss: 0.4632 - val_accuracy: 0.9076\n",
      "Epoch 6/30\n",
      "485/485 [==============================] - 116s 240ms/step - loss: 0.0473 - accuracy: 0.9866 - val_loss: 0.5753 - val_accuracy: 0.9535\n",
      "Epoch 7/30\n",
      "485/485 [==============================] - 147s 302ms/step - loss: 0.0459 - accuracy: 0.9875 - val_loss: 0.5002 - val_accuracy: 0.9489\n",
      "Epoch 8/30\n",
      "485/485 [==============================] - 129s 265ms/step - loss: 0.0431 - accuracy: 0.9901 - val_loss: 0.5060 - val_accuracy: 0.9318\n",
      "Epoch 9/30\n",
      "485/485 [==============================] - 128s 263ms/step - loss: 0.0335 - accuracy: 0.9914 - val_loss: 0.3651 - val_accuracy: 0.9586\n",
      "Epoch 10/30\n",
      "485/485 [==============================] - 131s 269ms/step - loss: 0.0387 - accuracy: 0.9908 - val_loss: 0.2896 - val_accuracy: 0.9622\n",
      "Epoch 11/30\n",
      "485/485 [==============================] - 124s 256ms/step - loss: 0.0404 - accuracy: 0.9915 - val_loss: 0.7025 - val_accuracy: 0.9276\n",
      "Epoch 12/30\n",
      "485/485 [==============================] - 127s 261ms/step - loss: 0.0357 - accuracy: 0.9920 - val_loss: 0.2834 - val_accuracy: 0.9664\n",
      "Epoch 13/30\n",
      "485/485 [==============================] - 125s 257ms/step - loss: 0.0339 - accuracy: 0.9923 - val_loss: 0.7826 - val_accuracy: 0.9518\n",
      "Epoch 14/30\n",
      "485/485 [==============================] - 124s 255ms/step - loss: 0.0388 - accuracy: 0.9926 - val_loss: 0.4303 - val_accuracy: 0.9525\n",
      "Epoch 15/30\n",
      "485/485 [==============================] - 122s 252ms/step - loss: 0.0386 - accuracy: 0.9923 - val_loss: 0.4887 - val_accuracy: 0.9451\n",
      "Epoch 16/30\n",
      "485/485 [==============================] - 127s 262ms/step - loss: 0.0332 - accuracy: 0.9924 - val_loss: 0.8121 - val_accuracy: 0.9499\n",
      "Epoch 17/30\n",
      "485/485 [==============================] - 129s 266ms/step - loss: 0.0394 - accuracy: 0.9931 - val_loss: 0.4266 - val_accuracy: 0.9586\n",
      "Epoch 18/30\n",
      "485/485 [==============================] - 116s 239ms/step - loss: 0.0439 - accuracy: 0.9928 - val_loss: 0.5019 - val_accuracy: 0.9557\n",
      "Epoch 19/30\n",
      "485/485 [==============================] - 112s 231ms/step - loss: 0.0397 - accuracy: 0.9934 - val_loss: 0.4056 - val_accuracy: 0.9441\n",
      "Epoch 20/30\n",
      "485/485 [==============================] - 106s 219ms/step - loss: 0.0332 - accuracy: 0.9934 - val_loss: 0.2915 - val_accuracy: 0.9564\n",
      "Epoch 21/30\n",
      "485/485 [==============================] - 105s 217ms/step - loss: 0.0381 - accuracy: 0.9933 - val_loss: 0.5740 - val_accuracy: 0.9493\n",
      "Epoch 22/30\n",
      "485/485 [==============================] - 105s 217ms/step - loss: 0.0392 - accuracy: 0.9927 - val_loss: 0.6557 - val_accuracy: 0.9557\n",
      "Epoch 23/30\n",
      "485/485 [==============================] - 106s 219ms/step - loss: 0.0404 - accuracy: 0.9934 - val_loss: 0.5790 - val_accuracy: 0.9476\n",
      "Epoch 24/30\n",
      "485/485 [==============================] - 110s 226ms/step - loss: 0.0366 - accuracy: 0.9936 - val_loss: 0.9076 - val_accuracy: 0.9557\n",
      "Epoch 25/30\n",
      "485/485 [==============================] - 110s 227ms/step - loss: 0.0363 - accuracy: 0.9943 - val_loss: 0.6523 - val_accuracy: 0.9551\n",
      "Epoch 26/30\n",
      "485/485 [==============================] - 110s 226ms/step - loss: 0.0359 - accuracy: 0.9941 - val_loss: 0.8181 - val_accuracy: 0.9502\n",
      "Epoch 27/30\n",
      "485/485 [==============================] - 107s 220ms/step - loss: 0.0440 - accuracy: 0.9930 - val_loss: 0.9739 - val_accuracy: 0.9444\n",
      "Epoch 28/30\n",
      "485/485 [==============================] - 113s 232ms/step - loss: 0.0283 - accuracy: 0.9959 - val_loss: 0.7330 - val_accuracy: 0.9535\n",
      "Epoch 29/30\n",
      "485/485 [==============================] - 107s 220ms/step - loss: 0.0478 - accuracy: 0.9928 - val_loss: 0.7275 - val_accuracy: 0.9593\n",
      "Epoch 30/30\n",
      "485/485 [==============================] - 352s 726ms/step - loss: 0.0263 - accuracy: 0.9944 - val_loss: 0.7276 - val_accuracy: 0.9544\n"
     ]
    },
    {
     "data": {
      "text/plain": [
       "<keras.callbacks.History at 0x200cd9c0be0>"
      ]
     },
     "execution_count": 22,
     "metadata": {},
     "output_type": "execute_result"
    }
   ],
   "source": [
    "cnn.fit(training_set , validation_data =test_data , epochs = 30 )"
   ]
  },
  {
   "cell_type": "code",
   "execution_count": 23,
   "metadata": {
    "scrolled": true
   },
   "outputs": [
    {
     "name": "stdout",
     "output_type": "stream",
     "text": [
      "Epoch 1/30\n",
      "503/503 [==============================] - 121s 241ms/step - loss: 0.0085 - accuracy: 0.9979 - val_loss: 0.0710 - val_accuracy: 0.9790\n",
      "Epoch 2/30\n",
      "503/503 [==============================] - 114s 227ms/step - loss: 0.0172 - accuracy: 0.9960 - val_loss: 0.1525 - val_accuracy: 0.9758\n",
      "Epoch 3/30\n",
      "503/503 [==============================] - 111s 221ms/step - loss: 0.0091 - accuracy: 0.9979 - val_loss: 0.0945 - val_accuracy: 0.9769\n",
      "Epoch 4/30\n",
      "503/503 [==============================] - 120s 239ms/step - loss: 0.0140 - accuracy: 0.9966 - val_loss: 0.0497 - val_accuracy: 0.9784\n",
      "Epoch 5/30\n",
      "503/503 [==============================] - 108s 215ms/step - loss: 0.0044 - accuracy: 0.9988 - val_loss: 0.1006 - val_accuracy: 0.9712\n",
      "Epoch 6/30\n",
      "503/503 [==============================] - 104s 208ms/step - loss: 0.0099 - accuracy: 0.9969 - val_loss: 0.0478 - val_accuracy: 0.9833\n",
      "Epoch 7/30\n",
      "503/503 [==============================] - 105s 209ms/step - loss: 0.0078 - accuracy: 0.9977 - val_loss: 0.1074 - val_accuracy: 0.9706\n",
      "Epoch 8/30\n",
      "503/503 [==============================] - 106s 210ms/step - loss: 0.0148 - accuracy: 0.9967 - val_loss: 0.0531 - val_accuracy: 0.9821\n",
      "Epoch 9/30\n",
      "503/503 [==============================] - 107s 213ms/step - loss: 0.0088 - accuracy: 0.9976 - val_loss: 0.0447 - val_accuracy: 0.9899\n",
      "Epoch 10/30\n",
      "503/503 [==============================] - 105s 210ms/step - loss: 0.0071 - accuracy: 0.9981 - val_loss: 0.0936 - val_accuracy: 0.9752\n",
      "Epoch 11/30\n",
      "503/503 [==============================] - 112s 224ms/step - loss: 0.0101 - accuracy: 0.9971 - val_loss: 0.0532 - val_accuracy: 0.9807\n",
      "Epoch 12/30\n",
      "503/503 [==============================] - 112s 223ms/step - loss: 0.0091 - accuracy: 0.9977 - val_loss: 0.0670 - val_accuracy: 0.9798\n",
      "Epoch 13/30\n",
      "503/503 [==============================] - 109s 217ms/step - loss: 0.0102 - accuracy: 0.9974 - val_loss: 0.1716 - val_accuracy: 0.9746\n",
      "Epoch 14/30\n",
      "503/503 [==============================] - 126s 251ms/step - loss: 0.0150 - accuracy: 0.9962 - val_loss: 0.0467 - val_accuracy: 0.9905\n",
      "Epoch 15/30\n",
      "503/503 [==============================] - 139s 277ms/step - loss: 0.0055 - accuracy: 0.9987 - val_loss: 0.0676 - val_accuracy: 0.9827\n",
      "Epoch 16/30\n",
      "503/503 [==============================] - 128s 255ms/step - loss: 0.0084 - accuracy: 0.9979 - val_loss: 0.0569 - val_accuracy: 0.9870\n",
      "Epoch 17/30\n",
      "503/503 [==============================] - 127s 253ms/step - loss: 0.0101 - accuracy: 0.9973 - val_loss: 0.1255 - val_accuracy: 0.9853\n",
      "Epoch 18/30\n",
      "503/503 [==============================] - 131s 261ms/step - loss: 0.0098 - accuracy: 0.9974 - val_loss: 0.0266 - val_accuracy: 0.9948\n",
      "Epoch 19/30\n",
      "503/503 [==============================] - 124s 246ms/step - loss: 0.0105 - accuracy: 0.9971 - val_loss: 0.0556 - val_accuracy: 0.9841\n",
      "Epoch 20/30\n",
      "503/503 [==============================] - 132s 263ms/step - loss: 0.0062 - accuracy: 0.9983 - val_loss: 0.0573 - val_accuracy: 0.9810\n",
      "Epoch 21/30\n",
      "503/503 [==============================] - 124s 247ms/step - loss: 0.0096 - accuracy: 0.9981 - val_loss: 0.1414 - val_accuracy: 0.9674\n",
      "Epoch 22/30\n",
      "503/503 [==============================] - 132s 263ms/step - loss: 0.0114 - accuracy: 0.9973 - val_loss: 0.0163 - val_accuracy: 0.9951\n",
      "Epoch 23/30\n",
      "503/503 [==============================] - 140s 278ms/step - loss: 0.0108 - accuracy: 0.9974 - val_loss: 0.1910 - val_accuracy: 0.9749\n",
      "Epoch 24/30\n",
      "503/503 [==============================] - 129s 257ms/step - loss: 0.0075 - accuracy: 0.9976 - val_loss: 0.1201 - val_accuracy: 0.9709\n",
      "Epoch 25/30\n",
      "503/503 [==============================] - 125s 248ms/step - loss: 0.0069 - accuracy: 0.9983 - val_loss: 0.0636 - val_accuracy: 0.9865\n",
      "Epoch 26/30\n",
      "503/503 [==============================] - 128s 254ms/step - loss: 0.0068 - accuracy: 0.9984 - val_loss: 0.1205 - val_accuracy: 0.9792\n",
      "Epoch 27/30\n",
      "503/503 [==============================] - 126s 250ms/step - loss: 0.0112 - accuracy: 0.9972 - val_loss: 0.0810 - val_accuracy: 0.9827\n",
      "Epoch 28/30\n",
      "503/503 [==============================] - 134s 267ms/step - loss: 0.0065 - accuracy: 0.9983 - val_loss: 0.0254 - val_accuracy: 0.9865\n",
      "Epoch 29/30\n",
      "503/503 [==============================] - 145s 288ms/step - loss: 0.0077 - accuracy: 0.9986 - val_loss: 0.0516 - val_accuracy: 0.9902\n",
      "Epoch 30/30\n",
      "503/503 [==============================] - 142s 282ms/step - loss: 0.0039 - accuracy: 0.9991 - val_loss: 0.0412 - val_accuracy: 0.9914\n"
     ]
    },
    {
     "data": {
      "text/plain": [
       "<keras.callbacks.History at 0x2ba53473fd0>"
      ]
     },
     "execution_count": 23,
     "metadata": {},
     "output_type": "execute_result"
    }
   ],
   "source": [
    "cnn.fit(x = training_set , validation_data =test_data , epochs = 30 )"
   ]
  },
  {
   "cell_type": "code",
   "execution_count": null,
   "metadata": {},
   "outputs": [],
   "source": [
    "#summary of the model"
   ]
  },
  {
   "cell_type": "code",
   "execution_count": 23,
   "metadata": {},
   "outputs": [
    {
     "name": "stdout",
     "output_type": "stream",
     "text": [
      "Model: \"sequential\"\n",
      "_________________________________________________________________\n",
      " Layer (type)                Output Shape              Param #   \n",
      "=================================================================\n",
      " conv2d (Conv2D)             (None, 62, 62, 64)        640       \n",
      "                                                                 \n",
      " max_pooling2d (MaxPooling2D  (None, 31, 31, 64)       0         \n",
      " )                                                               \n",
      "                                                                 \n",
      " conv2d_1 (Conv2D)           (None, 29, 29, 64)        36928     \n",
      "                                                                 \n",
      " max_pooling2d_1 (MaxPooling  (None, 14, 14, 64)       0         \n",
      " 2D)                                                             \n",
      "                                                                 \n",
      " conv2d_2 (Conv2D)           (None, 12, 12, 64)        36928     \n",
      "                                                                 \n",
      " max_pooling2d_2 (MaxPooling  (None, 6, 6, 64)         0         \n",
      " 2D)                                                             \n",
      "                                                                 \n",
      " conv2d_3 (Conv2D)           (None, 4, 4, 64)          36928     \n",
      "                                                                 \n",
      " max_pooling2d_3 (MaxPooling  (None, 2, 2, 64)         0         \n",
      " 2D)                                                             \n",
      "                                                                 \n",
      " dropout (Dropout)           (None, 2, 2, 64)          0         \n",
      "                                                                 \n",
      " flatten (Flatten)           (None, 256)               0         \n",
      "                                                                 \n",
      " dense (Dense)               (None, 512)               131584    \n",
      "                                                                 \n",
      " dense_1 (Dense)             (None, 512)               262656    \n",
      "                                                                 \n",
      " dense_2 (Dense)             (None, 9)                 4617      \n",
      "                                                                 \n",
      "=================================================================\n",
      "Total params: 510,281\n",
      "Trainable params: 510,281\n",
      "Non-trainable params: 0\n",
      "_________________________________________________________________\n"
     ]
    }
   ],
   "source": [
    "cnn.summary()"
   ]
  }
 ],
 "metadata": {
  "kernelspec": {
   "display_name": "Python 3",
   "language": "python",
   "name": "python3"
  },
  "language_info": {
   "codemirror_mode": {
    "name": "ipython",
    "version": 3
   },
   "file_extension": ".py",
   "mimetype": "text/x-python",
   "name": "python",
   "nbconvert_exporter": "python",
   "pygments_lexer": "ipython3",
   "version": "3.7.3"
  }
 },
 "nbformat": 4,
 "nbformat_minor": 2
}
